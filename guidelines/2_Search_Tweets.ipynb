{
 "cells": [
  {
   "cell_type": "markdown",
   "metadata": {},
   "source": [
    "# Search Tweets\n",
    "\n",
    "In order to find the topic of your interest, you may search tweets using two endpoints, Recent search and full-archive search. To filter tweets, no matter which endpoint you are using, you need to provide a search query.\n",
    "According to Twitter website, \"These search queries are created with a set of operators that match on Tweet and user attributes, such as message keywords, hashtags, and URLs. Operators can be combined into queries with boolean logic and parentheses to help refine the queries matching behavior.\"\n",
    "\n"
   ]
  },
  {
   "cell_type": "markdown",
   "metadata": {},
   "source": [
    "## Requirements\n",
    "The search_tweet.py script takes two arguments: \n",
    "1. `--credential-file <CREDENTIAL_FILENAME>`\n",
    "2. `--config-file <CONFIG_FILENAME>` \n",
    "3. `--env-overwrite <BOOLEAN>` (Overwrites YAML-parsed credentials with any set environment variables. Default is TRUE)\n",
    "\n",
    "\n",
    "### 1. Credential file\n",
    "The credential file holds your Twitter credentials. The simplest credential file should look like this:\n",
    "\n",
    "```\n",
    "search_tweets_v2:\n",
    "  endpoint:  https://api.twitter.com/2/tweets/search/...\n",
    "  consumer_key: ek...\n",
    "  consumer_secret: hy...\n",
    "  bearer_token: AA...\n",
    "```\n",
    "\n",
    "By default, this library expects this file at `~/.twitter_keys.yaml`, but you can pass the relevant location as needed with the `--credential-file <CREDENTIAL_FILENAME>` flag for the command-line app.\n",
    "\n",
    "#### Recent Search\n",
    "To execute a recent search, the endpoint specification in the credential file needs to be set to 'recent'. The ‘recent’ search endpoint provides Tweets from the **past 7 days**.\n",
    "\n",
    "```\n",
    "search_tweets_v2:\n",
    "  endpoint:  https://api.twitter.com/2/tweets/search/recent\n",
    "  consumer_key: ek...\n",
    "  consumer_secret: hy...\n",
    "  bearer_token: AA...\n",
    "```\n",
    "\n",
    "#### Full-archive Search\n",
    "To execute a full-archive search, the endpoint specification in the credential file needs to be set to 'all'. The ‘all’ search endpoint, launched in January 2021 as part of the ‘academic research’ tier of Twitter API v2 access, provides access to all publicly avaialble Tweets posted **since March 2006**.\n",
    "\n",
    "```\n",
    "search_tweets_v2:\n",
    "  endpoint:  https://api.twitter.com/2/tweets/search/all\n",
    "  consumer_key: ek...\n",
    "  consumer_secret: hy...\n",
    "  bearer_token: AA...\n",
    "```\n",
    "\n",
    "### 2. Configuration file\n",
    "The configuration file (i.e., `api_config.config`) contains all parameters. Placing all paramters into one file is far easier to use than the command-line args version. If a valid configuration file is found, all arguments will be populated from there. N.B. Remaining command-line arguments will overrule arguments found in the config file (if `--env-overwrite` is not set to FALSE).\n",
    "\n",
    "An example of such a config-file:\n",
    "\n",
    "```\n",
    "[search_rules]\n",
    "start_time = 2020-05-01\n",
    "end_time = 2020-06-01\n",
    "query = (snow OR rain) has:media -is:retweet\n",
    "tweet_fields = id,created_at,text\n",
    "\n",
    "[search_params]\n",
    "results_per_call = 10\n",
    "max_tweets = 10\n",
    "\n",
    "[output_params]\n",
    "save_file = True\n",
    "filename_prefix = output/weather_pics3\n",
    "results_per_file = 10\n",
    "```"
   ]
  },
  {
   "cell_type": "markdown",
   "metadata": {},
   "source": [
    "### Search rules\n",
    "In the config-file you can enter all search rules necessary for your research. \n",
    "\n",
    "Here are some examples:\n",
    "```\n",
    "[search_rules]\n",
    "start_time = <Start of datetime window, format ‘YYYY-mm-DDTHH:MM’> \n",
    "end_time = <End of datetime window, format ‘YYYY-mm-DDTHH:MM’>\n",
    "tweet_fields = <A comma-delimited list of Tweet JSON attributes to include in endpoint responses>\n",
    "place_fields = <A comma-delimited list of Twitter Place JSON attributes to include in endpoint responses>\n",
    "query = <Search query>\n",
    "```\n",
    "\n",
    "#### Search query\n",
    "In the query specification, you enter how you wish to filter Tweets. Commonly used arugments are:\n",
    "* `<key_word1> OR <key_word2>` (look for Tweets including either word1 or word2)\n",
    "* `lang:<lang>` (only receive Tweets that are in specific langauge. Example, lang:en selects only English Tweets)\n",
    "* `-is:<type>` ('-' is a negation operator; excludes certain types of Tweets. Example, -is:retweet exclused retweets, leaving only original Tweets) \n",
    "* `-<key_word>` ('-' is a negation operator; excludes Tweets with key_word in it)\n",
    "* `has:<prop>` (matches Tweets that have specific property. Example, has:geo selectes Tweets with Tweet-specific geolocation data provided by the Twitter user)\n",
    "\n",
    "Hence, if you want to look for original Tweets in English related to happy or happiness containing at least one hashtag, but are not related to birthday whishes, we write:\n",
    "```\n",
    "query = (happy or happiness) lang:en -birthday -is:retweet has:hashtags\n",
    "```\n",
    "\n",
    "To get an extensive overview of how you can structure a query, have a look [here](https://developer.twitter.com/en/docs/twitter-api/tweets/counts/integrate/build-a-query). "
   ]
  },
  {
   "cell_type": "markdown",
   "metadata": {},
   "source": [
    "### Search parameters\n",
    "In the config-file you can enter all search parameters necessary for your research. \n",
    "\n",
    "Here are some examples:\n",
    "```\n",
    "[search_params]\n",
    "results_per_call = <Number of results to return per call (default 10; max 100)>\n",
    "max_tweets = <Maximum number of Tweets to return for this session of requests>\n",
    "max_pages = <Maximum number of pages/API calls to use for this session>\n",
    "```\n"
   ]
  },
  {
   "cell_type": "markdown",
   "metadata": {},
   "source": [
    "### Output parameters\n",
    "In the config-file you can enter all output parameters necessary for your research. \n",
    "\n",
    "Here are some examples:\n",
    "```\n",
    "[output_params]\n",
    "save_file = True\n",
    "filename_prefix = <prefix for the filename where tweet json data will be stored>\n",
    "results_per_file = <Maximum tweets to save per file>\n",
    "```\n"
   ]
  },
  {
   "cell_type": "markdown",
   "metadata": {},
   "source": [
    "## Running script\n",
    "After you've filled in your credentials in the `.twitter_keys.yaml` and entered all parameters needed for your Twitter search in the `api_config.config` file, you can run the script in the command line with the following code:\n",
    "\n",
    "```\n",
    "cd tweet_collector\n",
    "python3 src/search_tweet.py --credential-file \"config/.twitter_keys.yaml\" --config-file \"config/api_config.config \n",
    "```"
   ]
  },
  {
   "cell_type": "code",
   "execution_count": null,
   "metadata": {},
   "outputs": [],
   "source": []
  }
 ],
 "metadata": {
  "kernelspec": {
   "display_name": "Python 3",
   "language": "python",
   "name": "python3"
  },
  "language_info": {
   "codemirror_mode": {
    "name": "ipython",
    "version": 3
   },
   "file_extension": ".py",
   "mimetype": "text/x-python",
   "name": "python",
   "nbconvert_exporter": "python",
   "pygments_lexer": "ipython3",
   "version": "3.8.5"
  }
 },
 "nbformat": 4,
 "nbformat_minor": 5
}
