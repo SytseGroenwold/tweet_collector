{
 "cells": [
  {
   "cell_type": "markdown",
   "id": "34388aab",
   "metadata": {},
   "source": [
    "# Visualizing Twitter Data\n",
    "After collecting tweets, the next step is to visualize this data for further analysis. In this guideline we explain how to visualize tweets using Elasticsearch/Kibana. Here are the steps:\n",
    "\n",
    "1. Running Elasticsearch and Kibana using Docker\n",
    "2. Loading the extracted tweets into Elasticsearch\n",
    "3. Visualizing the data in Kibana"
   ]
  },
  {
   "cell_type": "markdown",
   "id": "d8cb9bff",
   "metadata": {},
   "source": [
    "## 1. Run Elasticsearch/Kibana\n",
    "\n",
    "To run Elasticsearch/Kibana, you can use a docker image called `docker-compose.yaml`, available via the 'tweet_collector' repo. Type the following code in Terminal:\n",
    "\n",
    "```\n",
    "cd tweet_collector\n",
    "docker-compose up -d\n",
    "```\n",
    "If the process is done completely, you should find home page of elasitc in http://localhost:5601 "
   ]
  },
  {
   "cell_type": "markdown",
   "id": "a411aadc",
   "metadata": {},
   "source": [
    "## 2. Load data\n",
    "To upload your data into Elastic, you need to run the following code in your terminal:\n",
    "\n",
    "```\n",
    "cd tweet_collector\n",
    "sh load_elastic.sh\n",
    "```\n",
    "\n",
    "**Note:** This script uploads all the json files starting with `filename_prefix`  mentioned in `config/api_config.config`.\n",
    "\n",
    "\n",
    "For example, considering `guidelines/example/api_config.config`, all files in 'output/happiness[x].json will be uploaded to elasticsearch.\n"
   ]
  },
  {
   "cell_type": "markdown",
   "id": "039992b6",
   "metadata": {},
   "source": [
    "## 3. Kibana\n",
    "### Adding data in Kibana\n",
    "Now, when you click on `Kibana visualize & analyze` you can add the imported data. To do this, perform the following steps:\n",
    "\n",
    "1. Click on `Add your data`\n",
    "2. Click on `Create index pattern`\n",
    "3. Provide an index pattern name, in this case *twitter*, and click `Next step`\n",
    "4. Select time field,'created_at'.\n",
    "5. Click `Create index pattern`\n",
    "6. The final step is an overview of the imported data and it's mapping/type structure.\\* You don't need to change anything.\n",
    "\n",
    "\n",
    "### Creating a dashboard\n",
    "To create a visualization of the twitter data:\n",
    "1. Select `Dashboard` from the main menu in the upper left corner, in `Analytics` section.\n",
    "2. Click on `Create new dashboard`\n",
    "3. Click on `Create panel`. It shows multiple visualization options.\n",
    "4. You can choose `Lens` which is recomended for many users.\n",
    "\n",
    "**Notes**\n",
    "- By dragging fields to the center of the screen, you can create graphs. You can personalize the graphs by means of form (e.g., stacked bar, area, bar, etc.) and by defining `Break down by`, splitting up your graph even further. \n",
    "\n",
    "- Make sure to select the right timeframe (see calender icon on the right of the screen) matching your Twitter filter. The default value of this 'time filter' is '15 minutes ago - now'. So, for example, if you've filtered tweets untill a certain end date (that is before 15 minutes ago), this will leave you with an empty list of `Available fields`.\n",
    "\n",
    "- For more information about what you can do with Kibana, have a look at [this web page](https://www.elastic.co/guide/en/kibana/current/discover.html).\n"
   ]
  },
  {
   "cell_type": "markdown",
   "id": "b87e3074",
   "metadata": {},
   "source": [
    "## 4. Saving data\n",
    "As you are working on a virtual research environment, it is essential to save all your data on another location before closing off the environment.\n",
    "\n",
    "### Saving twitter data\n",
    "To ensure you've saved all the extracted tweets, make sure to save the output .json file.\n",
    "\n",
    "### Saving visuals\n",
    "The visuals you've created can either be saved as:\n",
    "* a csv (see button `Download as CSV`, which translates your graph/visualization into a table in csv format).\n",
    "* an image (by right clicking on the created visual, you can save the visual as image)."
   ]
  },
  {
   "cell_type": "code",
   "execution_count": null,
   "id": "05ef28c8",
   "metadata": {},
   "outputs": [],
   "source": []
  }
 ],
 "metadata": {
  "kernelspec": {
   "display_name": "Python 3",
   "language": "python",
   "name": "python3"
  },
  "language_info": {
   "codemirror_mode": {
    "name": "ipython",
    "version": 3
   },
   "file_extension": ".py",
   "mimetype": "text/x-python",
   "name": "python",
   "nbconvert_exporter": "python",
   "pygments_lexer": "ipython3",
   "version": "3.9.6"
  }
 },
 "nbformat": 4,
 "nbformat_minor": 5
}
