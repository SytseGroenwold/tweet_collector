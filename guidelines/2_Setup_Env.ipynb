{
 "cells": [
  {
   "cell_type": "markdown",
   "id": "7d60e5ea",
   "metadata": {},
   "source": [
    "# Setup Environment\n",
    "\n",
    "You can run 'tweet_collector' on **ResearchCloud** or on **your local computer**.\n"
   ]
  },
  {
   "cell_type": "markdown",
   "id": "17e45e22",
   "metadata": {},
   "source": [
    "## ResearchCloud\n",
    "\n",
    "In this approach you do not need to install any application. The Research Engineering team in collaboration with the Research IT, provide a ready-to-run environment for tweet_collector. It is a workspace with pre-installed python and other required software applications running on Surfsara ResearchCloud.\n",
    "\n",
    "### Step 1: Apply for an account on ResearchCloud\n",
    "Send an email to Ton Smeele (A.P.M.Smeele@uu.nl) to request for an account.\n",
    "\n",
    "\n",
    "### Step 2: Create a new Workspace\n",
    "1. Go to `create new workspace` and click on `create new`\n",
    "2. Select `Python Workbench` and click `continue`\n",
    "3. Select collaborative organisation (i.e., a group of connected researchers who can also enter the VRE)\n",
    "4. Enter data or click `continue without selection`\n",
    "5. Select a wallet & choose cloud provider, click `continue`\n",
    "6. Select Select IP you want to connect to the workspace or click `continue without selection`\n",
    "7. Give the VRE a name.\n",
    "\n",
    "\n",
    "### Step 3. Login to a Research Cloud workspace\n",
    "\n",
    "1. Go to [surfresearchcloud.nl](https://portal.live.surfresearchcloud.nl/)\n",
    "2. Select Identity Provider (e.g., Utrecht University)\n",
    "3. Sign in to your Identity Provider to validate your identity \n",
    "4. In your `dashboard`, under `Your Workspaces` you see current 'workbenches'. To run this VRE, click on the yellow 'access' button. This will open the VRE.\n",
    "\n"
   ]
  },
  {
   "cell_type": "markdown",
   "id": "864575b3",
   "metadata": {},
   "source": [
    "## Local \n",
    "\n",
    "### Step 1: Install Requirements\n",
    "\n",
    "Here is the list of requirements\n",
    "\n",
    "- Python 3.8\n",
    "- [Docker compose] (https://docs.docker.com/compose/install/)\n",
    "\n",
    "### Step 2: Install tweet-collector\n",
    "\n",
    "To get a local copy up and running follow these simple steps.\n",
    "\n",
    "2.1. Open a **Terminal** \n",
    "2.2. Clone the repo\n",
    "```sh\n",
    "    git clone https://github.com/UtrechtUniversity/tweet_collector.git \n",
    "```    \n",
    "2.3. Navigate to 'tweet_collector' directory   \n",
    "```sh\n",
    "    cd tweet_collector \n",
    "```\n",
    "2.4. Install the package dependencies\n",
    "   1. If you have poetry \n",
    "    ```sh\n",
    "    poetry install \n",
    "    ```    \n",
    "   2. If you have only pip\n",
    "   ```sh\n",
    "   pip install -r requirement.txt\n",
    "   ```\n",
    " "
   ]
  },
  {
   "cell_type": "markdown",
   "id": "b350f0d3",
   "metadata": {},
   "source": [
    "In this step, the environment is ready to use. In order to start with searching tweets, go to '3_Search_Tweets.ipynb'."
   ]
  },
  {
   "cell_type": "markdown",
   "id": "444734f8",
   "metadata": {},
   "source": [
    "**Note** In order to copy and paste text between your local computer and your workspace on cloud, you can save it in a .txt file and transfer it via SCP command.\n",
    "\n",
    "```sh\n",
    "    scp txt_to_copy.txt [Usernames@ip-address]:/txt_to_copy.txt\n",
    " ```"
   ]
  },
  {
   "cell_type": "code",
   "execution_count": null,
   "id": "9c96a650",
   "metadata": {},
   "outputs": [],
   "source": []
  }
 ],
 "metadata": {
  "kernelspec": {
   "display_name": "Python 3",
   "language": "python",
   "name": "python3"
  },
  "language_info": {
   "codemirror_mode": {
    "name": "ipython",
    "version": 3
   },
   "file_extension": ".py",
   "mimetype": "text/x-python",
   "name": "python",
   "nbconvert_exporter": "python",
   "pygments_lexer": "ipython3",
   "version": "3.9.6"
  }
 },
 "nbformat": 4,
 "nbformat_minor": 5
}
