{
 "cells": [
  {
   "cell_type": "markdown",
   "id": "7d60e5ea",
   "metadata": {},
   "source": [
    "# Setup Environment\n",
    "To collect tweets and visualize them using 'tweet_collector' you need to set the environment.\n",
    "In the [Requirements](#req), there is a list of the software applications that need to be installed.\n",
    "\n",
    "To ease the process, the Research Engineering team in collaboration with the ITS group provide a workspace with pre-installed python and other required software applications on Surfsara ResearchCloud. This workspace is a ready-to-run environment for tweet_collector. \n"
   ]
  },
  {
   "cell_type": "markdown",
   "id": "ed39d509",
   "metadata": {},
   "source": [
    "## <a name='req' > Requirements </a> \n",
    "- Python 3.8\n",
    "- Docker desktop (win or mac or linux?)"
   ]
  },
  {
   "cell_type": "markdown",
   "id": "17e45e22",
   "metadata": {},
   "source": [
    "## Getting Started\n",
    "\n",
    "To start you need to either login to the Research Cloud workspace or install the above-mentioned requirements. In the latter case, please ignore Step 1. \n",
    "\n",
    "###  Step 1:  Login to a Research Cloud workspace\n",
    "\n",
    "\n",
    "### Step 2: Install tweet-collector\n",
    "\n",
    "To get a local copy up and running follow these simple steps.\n",
    "\n",
    "2.1. Open a **Terminal** Using **Ctrl+Alt+T**\n",
    "\n",
    "2.2. Clone the repo\n",
    "```sh\n",
    "    git clone https://github.com/UtrechtUniversity/tweet_collector.git \n",
    "```\n",
    "\n",
    "    \n",
    "2.3. Navigate to 'tweet_collector' directory\n",
    "    \n",
    "```sh\n",
    "    cd tweet_collector \n",
    "```\n",
    "\n",
    "2.4. Install the package dependencies\n",
    "   1. If you have poetry (By default, poetry is installed in ResearchCloud workspace.)\n",
    "   \n",
    "    ```sh\n",
    "    poetry install \n",
    "    ```\n",
    "    \n",
    "   2. If you have only pip\n",
    "  \n",
    "   ```sh\n",
    "   pip install -r requirement.txt\n",
    "   ```\n",
    " "
   ]
  },
  {
   "cell_type": "markdown",
   "id": "b350f0d3",
   "metadata": {},
   "source": [
    "In this step, the environment is ready to use. In order to start with searching tweets, go to '3_Search_Tweets.ipynb'."
   ]
  },
  {
   "cell_type": "code",
   "execution_count": null,
   "id": "fa9ae99f",
   "metadata": {},
   "outputs": [],
   "source": []
  }
 ],
 "metadata": {
  "kernelspec": {
   "display_name": "Python 3",
   "language": "python",
   "name": "python3"
  },
  "language_info": {
   "codemirror_mode": {
    "name": "ipython",
    "version": 3
   },
   "file_extension": ".py",
   "mimetype": "text/x-python",
   "name": "python",
   "nbconvert_exporter": "python",
   "pygments_lexer": "ipython3",
   "version": "3.9.6"
  }
 },
 "nbformat": 4,
 "nbformat_minor": 5
}
