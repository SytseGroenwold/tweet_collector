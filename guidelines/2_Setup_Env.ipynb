{
 "cells": [
  {
   "cell_type": "markdown",
   "id": "7d60e5ea",
   "metadata": {},
   "source": [
    "# Setup Environment\n",
    "To collect tweets and visualize them using 'tweet_collector' you need to set the environment.\n",
    "In the [Requirements](#req), there is a list of the software applications that need to be installed.\n",
    "\n",
    "To ease the process, the Research Engineering team in collaboration with the ITS group provide a workspace with pre-installed python and other required software applications on Surfsara ResearchCloud. This workspace is a ready-to-run environment for tweet_collector. \n"
   ]
  },
  {
   "cell_type": "markdown",
   "id": "ed39d509",
   "metadata": {},
   "source": [
    "## <a name='req' > Requirements </a> \n",
    "- Python 3.8\n",
    "- Docker desktop (win or mac or linux?)"
   ]
  },
  {
   "cell_type": "markdown",
   "id": "17e45e22",
   "metadata": {},
   "source": [
    "## Getting Started\n",
    "\n",
    "To start you need to either login to the Research Cloud workspace or install the above-mentioned requirements. In the latter case, please ignore Step 1. \n",
    "\n",
    "###  Step 1:  Login to a Research Cloud workspace\n",
    "\n",
    "1.1. Go to [surfresearchcloud.nl](https://portal.live.surfresearchcloud.nl/)\n",
    "\n",
    "1.2. Select Identity Provider (e.g., Utrecht University)\n",
    "\n",
    "1.3. Sign in to your Identity Provider to validate your identity \n",
    "\n",
    "1.4. When logged in, you are at the `dashboard` page. In the bottom, under `Your Workspaces` you see current 'workbenches'. To run this VRE, click on the yellow 'access' button. This will open the VRE.\n",
    "\n",
    "N.B. If you don't have a workspace yet, follow these steps:\n",
    "   1. Go to `create new workspace` and click on `create new`\n",
    "   2. Select `Python Workbench` and click `continue`\n",
    "   3. Select collaborative organisation (i.e., a group of connected researchers who can also enter the VRE)\n",
    "   4. Enter data or click `continue without selection`\n",
    "   5. Select a wallet & choose cloud provider, click `continue`\n",
    "   6. Select Select IP you want to connect to the workspace or click `continue without selection`\n",
    "   7. Give the VRE a name.\n",
    "\n",
    "\n",
    "### Step 2: Install tweet-collector\n",
    "\n",
    "To get a local copy up and running follow these simple steps.\n",
    "\n",
    "2.1. Open a **Terminal** Using **Ctrl+Alt+T**\n",
    "\n",
    "2.2. Clone the repo\n",
    "\n",
    "```sh\n",
    "git clone https://github.com/github_username/tweet_collector.git\n",
    "```\n",
    "\n",
    "2.3. Navigate to 'tweet_collector' directory\n",
    "```sh\n",
    "cd tweet_collector\n",
    "```\n",
    "\n",
    "2.4. Install the package dependencies\n",
    "   1. If you have poetry (By default, poetry is installed in ResearchCloud workspace.)\n",
    "    ```sh\n",
    "    poetry install \n",
    "    ```\n",
    "    N.B. if you get the **NoCompatiblePythonVersionFound** error, use pyenv to install the correct version (>3.8):\n",
    "    ```sh\n",
    "    pyenv install <version>\n",
    "    pyenv local <version>\n",
    "    ```\n",
    "    Now, run `poetry install` again.\n",
    "   2. If you have only pip\n",
    "   ```sh\n",
    "   pip install -r requirement.txt\n",
    "   ```"
   ]
  },
  {
   "cell_type": "markdown",
   "id": "b350f0d3",
   "metadata": {},
   "source": [
    "In this step, the environment is ready to use. In order to start with searching tweets, go to '3_Search_Tweets.ipynb'."
   ]
  }
 ],
 "metadata": {
  "kernelspec": {
   "display_name": "Python 3",
   "language": "python",
   "name": "python3"
  },
  "language_info": {
   "codemirror_mode": {
    "name": "ipython",
    "version": 3
   },
   "file_extension": ".py",
   "mimetype": "text/x-python",
   "name": "python",
   "nbconvert_exporter": "python",
   "pygments_lexer": "ipython3",
   "version": "3.8.8"
  }
 },
 "nbformat": 4,
 "nbformat_minor": 5
}
