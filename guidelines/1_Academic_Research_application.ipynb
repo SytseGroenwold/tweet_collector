{
 "cells": [
  {
   "cell_type": "markdown",
   "metadata": {},
   "source": [
    "# The Academic Research Product track\n",
    "This guideline describes Twitter's special Academic Research Product (ARP) track, a tweet-extraction tool especially useful for scientific research. Here, we will discuss:\n",
    "\n",
    "1. What is ARP track?\n",
    "    * Unique advantages\n",
    "2. Who can apply for ARP track?\n",
    "    * Selection criteria\n",
    "3. How to apply for ARP track?\n",
    "    * Steps to take\n",
    "    * Questions"
   ]
  },
  {
   "cell_type": "markdown",
   "metadata": {},
   "source": [
    "## 1. What is ARP track?\n",
    "The Academic Research track was built to serve the needs of the academic research community via specialized, greater levels of access to public Twitter data. The ARP track is functionality designed to get more precise and complete data for analyzing the public conversation, at no cost for qualifying researchers. Since the Academic Research track includes specialized, greater levels of access, it is reserved solely for non-commercial use.\n",
    "\n",
    "### Unique advantages\n",
    "With the new Academic Research product track, qualified researchers now have access to all v2 endpoints released to date, as well as:\n",
    "\n",
    "* **Free access to the full history** of public conversation via the full-archive search endpoint, which was previously limited to paid premium or enterprise customers\n",
    "* **Higher levels of access** to the Twitter developer platform for free, including a significantly higher monthly Tweet volume cap of 10 million (20x higher than what’s available on the Standard product track today)\n",
    "* **More precise filtering capabilities** across all v2 endpoints to limit data collection to what is relevant for your study and minimize data cleaning requirements\n",
    "* **New technical and methodological guides** to maximize the success of your studies\n"
   ]
  },
  {
   "cell_type": "markdown",
   "metadata": {},
   "source": [
    "## 2. Who can apply for ARP track?\n",
    "Academic researchers with specific research objectives are encouraged to apply. This includes graduate students working on a thesis, PhD candidates working on a dissertation, or research scholars affiliated with or employed by an academic institution.\n",
    "\n",
    "### Selection criteria\n",
    "You’re encouraged to apply for access to the Academic Research track if you meet the following criteria:\n",
    "\n",
    "* You are either a master’s student, doctoral candidate, post-doc, faculty, or research-focused employee at an academic institution or university.\n",
    "* You have a clearly defined research objective, and you have specific plans for how you intend to use, analyze, and share Twitter data from your research. More about Project details [here](https://developer.twitter.com/en/products/twitter-api/academic-research/application-info).\n",
    "* You will use this product track for non-commercial purposes. More about non-commercial use [here](https://developer.twitter.com/en/developer-terms/commercial-terms).\n",
    "\n",
    "If you don’t meet all of the requirements above, the [Standard product track](https://developer.twitter.com/en/products/twitter-api/standard) might be a better fit. This track is ideal for commercial research, learning how to use the Twitter API, teaching, and building for fun or good causes.\n"
   ]
  },
  {
   "cell_type": "markdown",
   "metadata": {},
   "source": [
    "## 3. How to apply for ARP track?\n",
    "New and existing Twitter developers will need to complete an Academic Research application to gain access to this track. Here, you are asked about your credentials as an academic researcher, your research project, how you plan to use Twitter data, and how you plan to share your work. \n",
    "\n",
    "### Steps to take\n",
    "To apply for a ARP track:\n",
    "\n",
    "1. Go to https://developer.twitter.com/en/portal/petition/academic/is-it-right-for-you\n",
    "2. Log into your Twitter account *OR* Click on `Apply for an account`\n",
    "3. Click on `Start Academic Research application`\n",
    "4. Fill in the questions (see **Questions** section below for the questions you will be asked in the application)\n",
    "\n",
    "N.B. Once you submit your application for the Academic Research product track, you *cannot edit* these details. We recommend that you save the answers on your application, in case you want to reference these responses at a later date. The information you provide on this application will not be shared with anyone outside of Twitter.\n",
    "\n",
    "When the application in done, you should get a response within about 7 days.\n",
    "\n",
    "### Questions\n",
    "Below are the questions you will be asked in the application, so you know which materials you may need to prepare before getting started. \n",
    "\n",
    "#### A. Your academic profile\n",
    "This section is used to verify your scholarly identity and association with an academic institution:\n",
    "\n",
    "* Your **full name** as it is appears on your institution’s documentation\n",
    "* Links to webpages that help **establish your identity**; provide one or more of the following:\n",
    "    * A link to your profile in your institution’s faculty or student directory\n",
    "    * A link to your Google Scholar profile\n",
    "    * A link to your research group, lab or departmental website where you are listed\n",
    "* Information about your **academic institution**: its name, country, state, and city\n",
    "* Your **department**, **school**, or **lab name**\n",
    "* Your **academic field** of study or discipline at this institution\n",
    "* Your **current role** as an academic (whether you are a graduate student, doctoral candidate, post-doc, professor, research scientist, or other faculty member)\n",
    "     \n",
    "#### B. Your research project details\n",
    "This section is needed to understand how you intend to use the Twitter API and Twitter data. Your answers to these questions illustrate that you have a clearly defined academic research project in mind. This information is also used to ensure projects adhere to the Twitter Developer Agreement and Policy, including the terms for non-commercial use, and that the safety and privacy of people on Twitter are protected. Please be detailed, thoughtful, and thorough in your response to ensure reviewers are equipped to render a decision.\n",
    "\n",
    "N.B. You *can’t edit* your responses to these questions later, so you’re encouraged to spend some extra time here: \n",
    "* What is the **name** of your research project?\n",
    "* Does this project receive **funding** from outside your academic institution? If yes, please list all your sources of funding. This question helps to understand the scale of your project.\n",
    "* In English, describe your **research project**. Minimum 200 characters.\n",
    "    * What is your project about? \n",
    "    * What is your primary research question, hypothesis, or objective? \n",
    "    * What do you hope to learn?\n",
    "* In English, describe how Twitter data via the **Twitter API** will be used in your research project. Minimum 200 characters.\n",
    "    * In other words, how and why will you use Twitter data in this project? \n",
    "    * What purpose does Twitter data serve as a datasource for your project? \n",
    "    * While this question may seem very similar to the prior question, it is aimed to understand the role Twitter data plays in your project specifically. For example, are you using this data to study Twitter itself as a subject, or are you using this data as a method (or one of many methods) to study a different topic?\n",
    "* In English, describe your **methodology** for analyzing Twitter data, Tweets, and/or Twitter users. Minimum 200 characters.\n",
    "    * In other words, what types of analyses do you intend to perform with Twitter data? \n",
    "    * This should be more descriptive of your tactics than the question above.\n",
    "* Will your research present **Twitter data** individually or in aggregate?\n",
    "    * Think of it as presenting individual Tweets or users vs. aggregate statistics or models.\n",
    "* In English, describe how you will **share the outcomes** of your research (include tools, data, and/or other resources you hope to build and share). Minimum 200 characters.\n",
    "    * We would like to know how and where you are interested in publishing or sharing your results.\n",
    "* Will your analysis make Twitter content or derived information available to a **government entity**?\n",
    "    * If yes, list all government entities you intend to provide Twitter content or derived information to under this use case. \n",
    "    * Note that your own academic institution does not apply in this question. \n",
    "    * Minimum 200 characters.\n"
   ]
  }
 ],
 "metadata": {
  "kernelspec": {
   "display_name": "Python 3",
   "language": "python",
   "name": "python3"
  },
  "language_info": {
   "codemirror_mode": {
    "name": "ipython",
    "version": 3
   },
   "file_extension": ".py",
   "mimetype": "text/x-python",
   "name": "python",
   "nbconvert_exporter": "python",
   "pygments_lexer": "ipython3",
   "version": "3.8.5"
  }
 },
 "nbformat": 4,
 "nbformat_minor": 5
}
